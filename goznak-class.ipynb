{
 "cells": [
  {
   "cell_type": "code",
   "execution_count": 1,
   "id": "4f88488d",
   "metadata": {
    "_cell_guid": "b1076dfc-b9ad-4769-8c92-a6c4dae69d19",
    "_uuid": "8f2839f25d086af736a60e9eeb907d3b93b6e0e5",
    "execution": {
     "iopub.execute_input": "2022-08-12T10:50:14.254143Z",
     "iopub.status.busy": "2022-08-12T10:50:14.253220Z",
     "iopub.status.idle": "2022-08-12T10:50:15.091349Z",
     "shell.execute_reply": "2022-08-12T10:50:15.090374Z"
    },
    "papermill": {
     "duration": 0.84687,
     "end_time": "2022-08-12T10:50:15.093890",
     "exception": false,
     "start_time": "2022-08-12T10:50:14.247020",
     "status": "completed"
    },
    "tags": []
   },
   "outputs": [],
   "source": [
    "import numpy as np\n",
    "import pandas as pd\n",
    "import os\n",
    "from sklearn.metrics import accuracy_score, roc_auc_score"
   ]
  },
  {
   "cell_type": "code",
   "execution_count": 2,
   "id": "a7086497",
   "metadata": {
    "execution": {
     "iopub.execute_input": "2022-08-12T10:50:15.102810Z",
     "iopub.status.busy": "2022-08-12T10:50:15.102500Z",
     "iopub.status.idle": "2022-08-12T10:50:17.101312Z",
     "shell.execute_reply": "2022-08-12T10:50:17.100307Z"
    },
    "papermill": {
     "duration": 2.005748,
     "end_time": "2022-08-12T10:50:17.103709",
     "exception": false,
     "start_time": "2022-08-12T10:50:15.097961",
     "status": "completed"
    },
    "tags": []
   },
   "outputs": [],
   "source": [
    "from fastai.data.all import *\n",
    "from fastai.vision.all import *"
   ]
  },
  {
   "cell_type": "code",
   "execution_count": 3,
   "id": "cc0197fa",
   "metadata": {
    "execution": {
     "iopub.execute_input": "2022-08-12T10:50:17.112191Z",
     "iopub.status.busy": "2022-08-12T10:50:17.111754Z",
     "iopub.status.idle": "2022-08-12T10:50:30.778936Z",
     "shell.execute_reply": "2022-08-12T10:50:30.777976Z"
    },
    "papermill": {
     "duration": 13.673954,
     "end_time": "2022-08-12T10:50:30.781333",
     "exception": false,
     "start_time": "2022-08-12T10:50:17.107379",
     "status": "completed"
    },
    "tags": []
   },
   "outputs": [],
   "source": [
    "paths_list = []\n",
    "for dirname, _, filenames in os.walk('/kaggle/input'):\n",
    "    for filename in filenames:\n",
    "        paths_list.append(os.path.join(dirname, filename))"
   ]
  },
  {
   "cell_type": "code",
   "execution_count": 4,
   "id": "89b48983",
   "metadata": {
    "execution": {
     "iopub.execute_input": "2022-08-12T10:50:30.790003Z",
     "iopub.status.busy": "2022-08-12T10:50:30.789407Z",
     "iopub.status.idle": "2022-08-12T10:50:30.795872Z",
     "shell.execute_reply": "2022-08-12T10:50:30.795045Z"
    },
    "papermill": {
     "duration": 0.012782,
     "end_time": "2022-08-12T10:50:30.797864",
     "exception": false,
     "start_time": "2022-08-12T10:50:30.785082",
     "status": "completed"
    },
    "tags": []
   },
   "outputs": [],
   "source": [
    "def  npy_load(path, pad=1374):\n",
    "    result = np.zeros((pad,80))\n",
    "    #print ('load', path)\n",
    "    try:\n",
    "        matrix = np.load(path)\n",
    "        result[:matrix.shape[0],:matrix.shape[1]] = matrix\n",
    "        #print(result)\n",
    "        return result \n",
    "    except ValueError:\n",
    "        return result "
   ]
  },
  {
   "cell_type": "code",
   "execution_count": 5,
   "id": "c23c2cce",
   "metadata": {
    "execution": {
     "iopub.execute_input": "2022-08-12T10:50:30.805629Z",
     "iopub.status.busy": "2022-08-12T10:50:30.805361Z",
     "iopub.status.idle": "2022-08-12T10:50:31.024800Z",
     "shell.execute_reply": "2022-08-12T10:50:31.023787Z"
    },
    "papermill": {
     "duration": 0.226182,
     "end_time": "2022-08-12T10:50:31.027395",
     "exception": false,
     "start_time": "2022-08-12T10:50:30.801213",
     "status": "completed"
    },
    "tags": []
   },
   "outputs": [
    {
     "name": "stdout",
     "output_type": "stream",
     "text": [
      "CPU times: user 204 ms, sys: 1.61 ms, total: 205 ms\n",
      "Wall time: 212 ms\n"
     ]
    }
   ],
   "source": [
    "%%time\n",
    "paths_df = pd.DataFrame({'paths':paths_list})\n",
    "paths_df['set'] = ['train' if x==-1 else 'val' for x in paths_df.paths.str.find('val')]\n",
    "paths_df['is_noise'] = [1 if x==-1 else 0 for x in paths_df.paths.str.find('clean')]\n",
    "paths_df['speaker_id'] = paths_df.paths.str.findall(r'\\/\\d*\\/').str[0].str[1:-1]\n",
    "#paths_df['npy'] = paths_df.paths.apply(npy_load)"
   ]
  },
  {
   "cell_type": "code",
   "execution_count": 6,
   "id": "8844c0be",
   "metadata": {
    "execution": {
     "iopub.execute_input": "2022-08-12T10:50:31.036027Z",
     "iopub.status.busy": "2022-08-12T10:50:31.035545Z",
     "iopub.status.idle": "2022-08-12T10:50:31.040972Z",
     "shell.execute_reply": "2022-08-12T10:50:31.039912Z"
    },
    "papermill": {
     "duration": 0.012118,
     "end_time": "2022-08-12T10:50:31.043255",
     "exception": false,
     "start_time": "2022-08-12T10:50:31.031137",
     "status": "completed"
    },
    "tags": []
   },
   "outputs": [],
   "source": [
    "def get_files(_, _set = 'train'):\n",
    "    result = list(paths_df[paths_df['set'] == _set]['paths'].values)\n",
    "    #print (result)\n",
    "    return result \n",
    "\n",
    "def get_files_val(_, _set = 'val'):\n",
    "    result = list(paths_df[paths_df['set'] == _set]['paths'].values)\n",
    "    #print (result)\n",
    "    return result "
   ]
  },
  {
   "cell_type": "code",
   "execution_count": 7,
   "id": "5861f0c2",
   "metadata": {
    "execution": {
     "iopub.execute_input": "2022-08-12T10:50:31.051218Z",
     "iopub.status.busy": "2022-08-12T10:50:31.050948Z",
     "iopub.status.idle": "2022-08-12T10:50:31.055523Z",
     "shell.execute_reply": "2022-08-12T10:50:31.054600Z"
    },
    "papermill": {
     "duration": 0.010893,
     "end_time": "2022-08-12T10:50:31.057616",
     "exception": false,
     "start_time": "2022-08-12T10:50:31.046723",
     "status": "completed"
    },
    "tags": []
   },
   "outputs": [],
   "source": [
    "def get_label(path):\n",
    "    result = paths_df[paths_df['paths'] == path]['is_noise'].values[0]\n",
    "    #print (result)\n",
    "    return result"
   ]
  },
  {
   "cell_type": "code",
   "execution_count": 8,
   "id": "19b4b970",
   "metadata": {
    "execution": {
     "iopub.execute_input": "2022-08-12T10:50:31.065471Z",
     "iopub.status.busy": "2022-08-12T10:50:31.065211Z",
     "iopub.status.idle": "2022-08-12T10:50:31.072671Z",
     "shell.execute_reply": "2022-08-12T10:50:31.071618Z"
    },
    "papermill": {
     "duration": 0.013644,
     "end_time": "2022-08-12T10:50:31.074647",
     "exception": false,
     "start_time": "2022-08-12T10:50:31.061003",
     "status": "completed"
    },
    "tags": []
   },
   "outputs": [],
   "source": [
    "dblock = DataBlock(blocks    = (ImageBlock, CategoryBlock),\n",
    "                   get_items = get_files,\n",
    "                   get_x     = npy_load, \n",
    "                   get_y     = get_label,\n",
    "                   splitter  = RandomSplitter(),\n",
    "                  # item_tfms = Resize(256)\n",
    "                  )"
   ]
  },
  {
   "cell_type": "code",
   "execution_count": 9,
   "id": "aa741f69",
   "metadata": {
    "execution": {
     "iopub.execute_input": "2022-08-12T10:50:31.082836Z",
     "iopub.status.busy": "2022-08-12T10:50:31.082553Z",
     "iopub.status.idle": "2022-08-12T10:51:19.534605Z",
     "shell.execute_reply": "2022-08-12T10:51:19.533675Z"
    },
    "papermill": {
     "duration": 48.462028,
     "end_time": "2022-08-12T10:51:19.540310",
     "exception": false,
     "start_time": "2022-08-12T10:50:31.078282",
     "status": "completed"
    },
    "tags": []
   },
   "outputs": [
    {
     "data": {
      "image/png": "[encoded data removed]",
      "text/plain": [
       "<Figure size 648x648 with 9 Axes>"
      ]
     },
     "metadata": {
      "needs_background": "light"
     },
     "output_type": "display_data"
    }
   ],
   "source": [
    "dls = dblock.dataloaders(Path(''))\n",
    "dls.show_batch()"
   ]
  },
  {
   "cell_type": "code",
   "execution_count": 10,
   "id": "869cbeae",
   "metadata": {
    "execution": {
     "iopub.execute_input": "2022-08-12T10:51:19.549319Z",
     "iopub.status.busy": "2022-08-12T10:51:19.549022Z",
     "iopub.status.idle": "2022-08-12T10:51:19.559385Z",
     "shell.execute_reply": "2022-08-12T10:51:19.558229Z"
    },
    "papermill": {
     "duration": 0.018813,
     "end_time": "2022-08-12T10:51:19.562946",
     "exception": false,
     "start_time": "2022-08-12T10:51:19.544133",
     "status": "completed"
    },
    "tags": []
   },
   "outputs": [
    {
     "data": {
      "text/plain": [
       "1    14001\n",
       "0    14000\n",
       "Name: is_noise, dtype: int64"
      ]
     },
     "execution_count": 10,
     "metadata": {},
     "output_type": "execute_result"
    }
   ],
   "source": [
    "paths_df.is_noise.value_counts()"
   ]
  },
  {
   "cell_type": "code",
   "execution_count": 11,
   "id": "2bd700e8",
   "metadata": {
    "execution": {
     "iopub.execute_input": "2022-08-12T10:51:19.571780Z",
     "iopub.status.busy": "2022-08-12T10:51:19.571488Z",
     "iopub.status.idle": "2022-08-12T10:56:27.514252Z",
     "shell.execute_reply": "2022-08-12T10:56:27.513147Z"
    },
    "papermill": {
     "duration": 307.949575,
     "end_time": "2022-08-12T10:56:27.516381",
     "exception": false,
     "start_time": "2022-08-12T10:51:19.566806",
     "status": "completed"
    },
    "tags": []
   },
   "outputs": [
    {
     "name": "stderr",
     "output_type": "stream",
     "text": [
      "Downloading: \"https://download.pytorch.org/models/resnet18-f37072fd.pth\" to /root/.cache/torch/hub/checkpoints/resnet18-f37072fd.pth\n"
     ]
    },
    {
     "data": {
      "application/vnd.jupyter.widget-view+json": {
       "model_id": "11e6019347654317ad97564d5f34fc47",
       "version_major": 2,
       "version_minor": 0
      },
      "text/plain": [
       "  0%|          | 0.00/44.7M [00:00<?, ?B/s]"
      ]
     },
     "metadata": {},
     "output_type": "display_data"
    },
    {
     "data": {
      "text/html": [
       "\n",
       "<style>\n",
       "    /* Turns off some styling */\n",
       "    progress {\n",
       "        /* gets rid of default border in Firefox and Opera. */\n",
       "        border: none;\n",
       "        /* Needs to be in here for Safari polyfill so background images work as expected. */\n",
       "        background-size: auto;\n",
       "    }\n",
       "    .progress-bar-interrupted, .progress-bar-interrupted::-webkit-progress-bar {\n",
       "        background: #F44336;\n",
       "    }\n",
       "</style>\n"
      ],
      "text/plain": [
       "<IPython.core.display.HTML object>"
      ]
     },
     "metadata": {},
     "output_type": "display_data"
    },
    {
     "data": {
      "text/html": [
       "<table border=\"1\" class=\"dataframe\">\n",
       "  <thead>\n",
       "    <tr style=\"text-align: left;\">\n",
       "      <th>epoch</th>\n",
       "      <th>train_loss</th>\n",
       "      <th>valid_loss</th>\n",
       "      <th>accuracy</th>\n",
       "      <th>time</th>\n",
       "    </tr>\n",
       "  </thead>\n",
       "  <tbody>\n",
       "    <tr>\n",
       "      <td>0</td>\n",
       "      <td>0.200801</td>\n",
       "      <td>0.186827</td>\n",
       "      <td>0.935833</td>\n",
       "      <td>02:53</td>\n",
       "    </tr>\n",
       "  </tbody>\n",
       "</table>"
      ],
      "text/plain": [
       "<IPython.core.display.HTML object>"
      ]
     },
     "metadata": {},
     "output_type": "display_data"
    },
    {
     "data": {
      "text/html": [
       "\n",
       "<style>\n",
       "    /* Turns off some styling */\n",
       "    progress {\n",
       "        /* gets rid of default border in Firefox and Opera. */\n",
       "        border: none;\n",
       "        /* Needs to be in here for Safari polyfill so background images work as expected. */\n",
       "        background-size: auto;\n",
       "    }\n",
       "    .progress-bar-interrupted, .progress-bar-interrupted::-webkit-progress-bar {\n",
       "        background: #F44336;\n",
       "    }\n",
       "</style>\n"
      ],
      "text/plain": [
       "<IPython.core.display.HTML object>"
      ]
     },
     "metadata": {},
     "output_type": "display_data"
    },
    {
     "data": {
      "text/html": [
       "<table border=\"1\" class=\"dataframe\">\n",
       "  <thead>\n",
       "    <tr style=\"text-align: left;\">\n",
       "      <th>epoch</th>\n",
       "      <th>train_loss</th>\n",
       "      <th>valid_loss</th>\n",
       "      <th>accuracy</th>\n",
       "      <th>time</th>\n",
       "    </tr>\n",
       "  </thead>\n",
       "  <tbody>\n",
       "    <tr>\n",
       "      <td>0</td>\n",
       "      <td>0.095756</td>\n",
       "      <td>0.083882</td>\n",
       "      <td>0.976667</td>\n",
       "      <td>02:13</td>\n",
       "    </tr>\n",
       "  </tbody>\n",
       "</table>"
      ],
      "text/plain": [
       "<IPython.core.display.HTML object>"
      ]
     },
     "metadata": {},
     "output_type": "display_data"
    },
    {
     "data": {
      "text/plain": [
       "Path('models/model_resnet18.pth')"
      ]
     },
     "execution_count": 11,
     "metadata": {},
     "output_type": "execute_result"
    }
   ],
   "source": [
    "learn = vision_learner(dls, models.resnet18, loss_func=CrossEntropyLossFlat(), metrics=accuracy)\n",
    "learn.fine_tune(1)\n",
    "learn.save(\"model_resnet18\")"
   ]
  },
  {
   "cell_type": "code",
   "execution_count": 12,
   "id": "f7ed84e8",
   "metadata": {
    "execution": {
     "iopub.execute_input": "2022-08-12T10:56:27.528649Z",
     "iopub.status.busy": "2022-08-12T10:56:27.527134Z",
     "iopub.status.idle": "2022-08-12T10:58:23.842516Z",
     "shell.execute_reply": "2022-08-12T10:58:23.841488Z"
    },
    "papermill": {
     "duration": 116.328027,
     "end_time": "2022-08-12T10:58:23.849403",
     "exception": false,
     "start_time": "2022-08-12T10:56:27.521376",
     "status": "completed"
    },
    "tags": []
   },
   "outputs": [
    {
     "name": "stdout",
     "output_type": "stream",
     "text": [
      "CPU times: user 1min 32s, sys: 1.12 s, total: 1min 33s\n",
      "Wall time: 1min 56s\n"
     ]
    }
   ],
   "source": [
    "%%time\n",
    "preds = []\n",
    "for path in paths_df[paths_df['set']=='val'].paths.values:\n",
    "    with learn.no_bar(), learn.no_logging():\n",
    "        preds.append(learn.predict(npy_load(path))[0])    "
   ]
  },
  {
   "cell_type": "code",
   "execution_count": 13,
   "id": "03b4f84b",
   "metadata": {
    "execution": {
     "iopub.execute_input": "2022-08-12T10:58:23.861112Z",
     "iopub.status.busy": "2022-08-12T10:58:23.860544Z",
     "iopub.status.idle": "2022-08-12T10:58:23.869578Z",
     "shell.execute_reply": "2022-08-12T10:58:23.868710Z"
    },
    "papermill": {
     "duration": 0.016568,
     "end_time": "2022-08-12T10:58:23.871601",
     "exception": false,
     "start_time": "2022-08-12T10:58:23.855033",
     "status": "completed"
    },
    "tags": []
   },
   "outputs": [],
   "source": [
    "preds_val = list(map(int,preds))\n",
    "labels_val = paths_df[paths_df['set']=='val'].is_noise.values"
   ]
  },
  {
   "cell_type": "code",
   "execution_count": 14,
   "id": "187fd195",
   "metadata": {
    "execution": {
     "iopub.execute_input": "2022-08-12T10:58:23.881649Z",
     "iopub.status.busy": "2022-08-12T10:58:23.881375Z",
     "iopub.status.idle": "2022-08-12T10:58:23.890065Z",
     "shell.execute_reply": "2022-08-12T10:58:23.888948Z"
    },
    "papermill": {
     "duration": 0.016284,
     "end_time": "2022-08-12T10:58:23.892303",
     "exception": false,
     "start_time": "2022-08-12T10:58:23.876019",
     "status": "completed"
    },
    "tags": []
   },
   "outputs": [
    {
     "data": {
      "text/plain": [
       "0.97125"
      ]
     },
     "execution_count": 14,
     "metadata": {},
     "output_type": "execute_result"
    }
   ],
   "source": [
    "accuracy_score(preds_val,labels_val) "
   ]
  },
  {
   "cell_type": "code",
   "execution_count": 15,
   "id": "41017976",
   "metadata": {
    "execution": {
     "iopub.execute_input": "2022-08-12T10:58:23.902526Z",
     "iopub.status.busy": "2022-08-12T10:58:23.902118Z",
     "iopub.status.idle": "2022-08-12T10:58:23.913250Z",
     "shell.execute_reply": "2022-08-12T10:58:23.912287Z"
    },
    "papermill": {
     "duration": 0.018982,
     "end_time": "2022-08-12T10:58:23.915754",
     "exception": false,
     "start_time": "2022-08-12T10:58:23.896772",
     "status": "completed"
    },
    "tags": []
   },
   "outputs": [
    {
     "data": {
      "text/plain": [
       "0.9713019610412049"
      ]
     },
     "execution_count": 15,
     "metadata": {},
     "output_type": "execute_result"
    }
   ],
   "source": [
    "roc_auc_score(preds_val,labels_val) "
   ]
  }
 ],
 "metadata": {
  "kernelspec": {
   "display_name": "Python 3",
   "language": "python",
   "name": "python3"
  },
  "language_info": {
   "codemirror_mode": {
    "name": "ipython",
    "version": 3
   },
   "file_extension": ".py",
   "mimetype": "text/x-python",
   "name": "python",
   "nbconvert_exporter": "python",
   "pygments_lexer": "ipython3",
   "version": "3.7.12"
  },
  "papermill": {
   "default_parameters": {},
   "duration": 499.550352,
   "end_time": "2022-08-12T10:58:26.325891",
   "environment_variables": {},
   "exception": null,
   "input_path": "__notebook__.ipynb",
   "output_path": "__notebook__.ipynb",
   "parameters": {},
   "start_time": "2022-08-12T10:50:06.775539",
   "version": "2.3.4"
  },
  "widgets": {
   "application/vnd.jupyter.widget-state+json": {
    "state": {
     "008ea2225fd4468a9744dd35eb86ed84": {
      "model_module": "@jupyter-widgets/controls",
      "model_module_version": "1.5.0",
      "model_name": "HTMLModel",
      "state": {
       "_dom_classes": [],
       "_model_module": "@jupyter-widgets/controls",
       "_model_module_version": "1.5.0",
       "_model_name": "HTMLModel",
       "_view_count": null,
       "_view_module": "@jupyter-widgets/controls",
       "_view_module_version": "1.5.0",
       "_view_name": "HTMLView",
       "description": "",
       "description_tooltip": null,
       "layout": "IPY_MODEL_2f29cf6b1c7849dc986f1654fb00809d",
       "placeholder": "​",
       "style": "IPY_MODEL_9443fb6f261942ec9e66eaa769e445bb",
       "value": " 44.7M/44.7M [00:00&lt;00:00, 211MB/s]"
      }
     },
     "11e6019347654317ad97564d5f34fc47": {
      "model_module": "@jupyter-widgets/controls",
      "model_module_version": "1.5.0",
      "model_name": "HBoxModel",
      "state": {
       "_dom_classes": [],
       "_model_module": "@jupyter-widgets/controls",
       "_model_module_version": "1.5.0",
       "_model_name": "HBoxModel",
       "_view_count": null,
       "_view_module": "@jupyter-widgets/controls",
       "_view_module_version": "1.5.0",
       "_view_name": "HBoxView",
       "box_style": "",
       "children": [
        "IPY_MODEL_43c410cc18f847af97561d45d3a7c275",
        "IPY_MODEL_74d1eebfffb8400cb028af4ff9bc0f04",
        "IPY_MODEL_008ea2225fd4468a9744dd35eb86ed84"
       ],
       "layout": "IPY_MODEL_203536d5d7664ff6b58961fc739883ca"
      }
     },
     "203536d5d7664ff6b58961fc739883ca": {
      "model_module": "@jupyter-widgets/base",
      "model_module_version": "1.2.0",
      "model_name": "LayoutModel",
      "state": {
       "_model_module": "@jupyter-widgets/base",
       "_model_module_version": "1.2.0",
       "_model_name": "LayoutModel",
       "_view_count": null,
       "_view_module": "@jupyter-widgets/base",
       "_view_module_version": "1.2.0",
       "_view_name": "LayoutView",
       "align_content": null,
       "align_items": null,
       "align_self": null,
       "border": null,
       "bottom": null,
       "display": null,
       "flex": null,
       "flex_flow": null,
       "grid_area": null,
       "grid_auto_columns": null,
       "grid_auto_flow": null,
       "grid_auto_rows": null,
       "grid_column": null,
       "grid_gap": null,
       "grid_row": null,
       "grid_template_areas": null,
       "grid_template_columns": null,
       "grid_template_rows": null,
       "height": null,
       "justify_content": null,
       "justify_items": null,
       "left": null,
       "margin": null,
       "max_height": null,
       "max_width": null,
       "min_height": null,
       "min_width": null,
       "object_fit": null,
       "object_position": null,
       "order": null,
       "overflow": null,
       "overflow_x": null,
       "overflow_y": null,
       "padding": null,
       "right": null,
       "top": null,
       "visibility": null,
       "width": null
      }
     },
     "2f29cf6b1c7849dc986f1654fb00809d": {
      "model_module": "@jupyter-widgets/base",
      "model_module_version": "1.2.0",
      "model_name": "LayoutModel",
      "state": {
       "_model_module": "@jupyter-widgets/base",
       "_model_module_version": "1.2.0",
       "_model_name": "LayoutModel",
       "_view_count": null,
       "_view_module": "@jupyter-widgets/base",
       "_view_module_version": "1.2.0",
       "_view_name": "LayoutView",
       "align_content": null,
       "align_items": null,
       "align_self": null,
       "border": null,
       "bottom": null,
       "display": null,
       "flex": null,
       "flex_flow": null,
       "grid_area": null,
       "grid_auto_columns": null,
       "grid_auto_flow": null,
       "grid_auto_rows": null,
       "grid_column": null,
       "grid_gap": null,
       "grid_row": null,
       "grid_template_areas": null,
       "grid_template_columns": null,
       "grid_template_rows": null,
       "height": null,
       "justify_content": null,
       "justify_items": null,
       "left": null,
       "margin": null,
       "max_height": null,
       "max_width": null,
       "min_height": null,
       "min_width": null,
       "object_fit": null,
       "object_position": null,
       "order": null,
       "overflow": null,
       "overflow_x": null,
       "overflow_y": null,
       "padding": null,
       "right": null,
       "top": null,
       "visibility": null,
       "width": null
      }
     },
     "37ab6f394dd343d183c431650191e0a9": {
      "model_module": "@jupyter-widgets/base",
      "model_module_version": "1.2.0",
      "model_name": "LayoutModel",
      "state": {
       "_model_module": "@jupyter-widgets/base",
       "_model_module_version": "1.2.0",
       "_model_name": "LayoutModel",
       "_view_count": null,
       "_view_module": "@jupyter-widgets/base",
       "_view_module_version": "1.2.0",
       "_view_name": "LayoutView",
       "align_content": null,
       "align_items": null,
       "align_self": null,
       "border": null,
       "bottom": null,
       "display": null,
       "flex": null,
       "flex_flow": null,
       "grid_area": null,
       "grid_auto_columns": null,
       "grid_auto_flow": null,
       "grid_auto_rows": null,
       "grid_column": null,
       "grid_gap": null,
       "grid_row": null,
       "grid_template_areas": null,
       "grid_template_columns": null,
       "grid_template_rows": null,
       "height": null,
       "justify_content": null,
       "justify_items": null,
       "left": null,
       "margin": null,
       "max_height": null,
       "max_width": null,
       "min_height": null,
       "min_width": null,
       "object_fit": null,
       "object_position": null,
       "order": null,
       "overflow": null,
       "overflow_x": null,
       "overflow_y": null,
       "padding": null,
       "right": null,
       "top": null,
       "visibility": null,
       "width": null
      }
     },
     "43c410cc18f847af97561d45d3a7c275": {
      "model_module": "@jupyter-widgets/controls",
      "model_module_version": "1.5.0",
      "model_name": "HTMLModel",
      "state": {
       "_dom_classes": [],
       "_model_module": "@jupyter-widgets/controls",
       "_model_module_version": "1.5.0",
       "_model_name": "HTMLModel",
       "_view_count": null,
       "_view_module": "@jupyter-widgets/controls",
       "_view_module_version": "1.5.0",
       "_view_name": "HTMLView",
       "description": "",
       "description_tooltip": null,
       "layout": "IPY_MODEL_c5ca2f7324204390a04d41b329b5c71f",
       "placeholder": "​",
       "style": "IPY_MODEL_c36829c212b04e09b98fd7935dbb1289",
       "value": "100%"
      }
     },
     "74d1eebfffb8400cb028af4ff9bc0f04": {
      "model_module": "@jupyter-widgets/controls",
      "model_module_version": "1.5.0",
      "model_name": "FloatProgressModel",
      "state": {
       "_dom_classes": [],
       "_model_module": "@jupyter-widgets/controls",
       "_model_module_version": "1.5.0",
       "_model_name": "FloatProgressModel",
       "_view_count": null,
       "_view_module": "@jupyter-widgets/controls",
       "_view_module_version": "1.5.0",
       "_view_name": "ProgressView",
       "bar_style": "success",
       "description": "",
       "description_tooltip": null,
       "layout": "IPY_MODEL_37ab6f394dd343d183c431650191e0a9",
       "max": 46830571.0,
       "min": 0.0,
       "orientation": "horizontal",
       "style": "IPY_MODEL_c7da23a2b8fa4407bc46bee6c2e66d8b",
       "value": 46830571.0
      }
     },
     "9443fb6f261942ec9e66eaa769e445bb": {
      "model_module": "@jupyter-widgets/controls",
      "model_module_version": "1.5.0",
      "model_name": "DescriptionStyleModel",
      "state": {
       "_model_module": "@jupyter-widgets/controls",
       "_model_module_version": "1.5.0",
       "_model_name": "DescriptionStyleModel",
       "_view_count": null,
       "_view_module": "@jupyter-widgets/base",
       "_view_module_version": "1.2.0",
       "_view_name": "StyleView",
       "description_width": ""
      }
     },
     "c36829c212b04e09b98fd7935dbb1289": {
      "model_module": "@jupyter-widgets/controls",
      "model_module_version": "1.5.0",
      "model_name": "DescriptionStyleModel",
      "state": {
       "_model_module": "@jupyter-widgets/controls",
       "_model_module_version": "1.5.0",
       "_model_name": "DescriptionStyleModel",
       "_view_count": null,
       "_view_module": "@jupyter-widgets/base",
       "_view_module_version": "1.2.0",
       "_view_name": "StyleView",
       "description_width": ""
      }
     },
     "c5ca2f7324204390a04d41b329b5c71f": {
      "model_module": "@jupyter-widgets/base",
      "model_module_version": "1.2.0",
      "model_name": "LayoutModel",
      "state": {
       "_model_module": "@jupyter-widgets/base",
       "_model_module_version": "1.2.0",
       "_model_name": "LayoutModel",
       "_view_count": null,
       "_view_module": "@jupyter-widgets/base",
       "_view_module_version": "1.2.0",
       "_view_name": "LayoutView",
       "align_content": null,
       "align_items": null,
       "align_self": null,
       "border": null,
       "bottom": null,
       "display": null,
       "flex": null,
       "flex_flow": null,
       "grid_area": null,
       "grid_auto_columns": null,
       "grid_auto_flow": null,
       "grid_auto_rows": null,
       "grid_column": null,
       "grid_gap": null,
       "grid_row": null,
       "grid_template_areas": null,
       "grid_template_columns": null,
       "grid_template_rows": null,
       "height": null,
       "justify_content": null,
       "justify_items": null,
       "left": null,
       "margin": null,
       "max_height": null,
       "max_width": null,
       "min_height": null,
       "min_width": null,
       "object_fit": null,
       "object_position": null,
       "order": null,
       "overflow": null,
       "overflow_x": null,
       "overflow_y": null,
       "padding": null,
       "right": null,
       "top": null,
       "visibility": null,
       "width": null
      }
     },
     "c7da23a2b8fa4407bc46bee6c2e66d8b": {
      "model_module": "@jupyter-widgets/controls",
      "model_module_version": "1.5.0",
      "model_name": "ProgressStyleModel",
      "state": {
       "_model_module": "@jupyter-widgets/controls",
       "_model_module_version": "1.5.0",
       "_model_name": "ProgressStyleModel",
       "_view_count": null,
       "_view_module": "@jupyter-widgets/base",
       "_view_module_version": "1.2.0",
       "_view_name": "StyleView",
       "bar_color": null,
       "description_width": ""
      }
     }
    },
    "version_major": 2,
    "version_minor": 0
   }
  }
 },
 "nbformat": 4,
 "nbformat_minor": 5
}
