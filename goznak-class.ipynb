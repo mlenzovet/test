{
 "cells": [
  {
   "cell_type": "code",
   "execution_count": 1,
   "id": "e4a09f37",
   "metadata": {
    "_cell_guid": "b1076dfc-b9ad-4769-8c92-a6c4dae69d19",
    "_uuid": "8f2839f25d086af736a60e9eeb907d3b93b6e0e5",
    "execution": {
     "iopub.execute_input": "2022-08-12T11:22:32.423364Z",
     "iopub.status.busy": "2022-08-12T11:22:32.422393Z",
     "iopub.status.idle": "2022-08-12T11:22:33.314789Z",
     "shell.execute_reply": "2022-08-12T11:22:33.313794Z"
    },
    "papermill": {
     "duration": 0.901587,
     "end_time": "2022-08-12T11:22:33.317631",
     "exception": false,
     "start_time": "2022-08-12T11:22:32.416044",
     "status": "completed"
    },
    "tags": []
   },
   "outputs": [],
   "source": [
    "import numpy as np\n",
    "import pandas as pd\n",
    "import os\n",
    "from sklearn.metrics import accuracy_score, roc_auc_score"
   ]
  },
  {
   "cell_type": "code",
   "execution_count": 2,
   "id": "62038b4a",
   "metadata": {
    "execution": {
     "iopub.execute_input": "2022-08-12T11:22:33.326383Z",
     "iopub.status.busy": "2022-08-12T11:22:33.326097Z",
     "iopub.status.idle": "2022-08-12T11:22:35.511196Z",
     "shell.execute_reply": "2022-08-12T11:22:35.510110Z"
    },
    "papermill": {
     "duration": 2.192049,
     "end_time": "2022-08-12T11:22:35.513825",
     "exception": false,
     "start_time": "2022-08-12T11:22:33.321776",
     "status": "completed"
    },
    "tags": []
   },
   "outputs": [],
   "source": [
    "from fastai.data.all import *\n",
    "from fastai.vision.all import *"
   ]
  },
  {
   "cell_type": "code",
   "execution_count": 3,
   "id": "45ca87e8",
   "metadata": {
    "execution": {
     "iopub.execute_input": "2022-08-12T11:22:35.524145Z",
     "iopub.status.busy": "2022-08-12T11:22:35.523597Z",
     "iopub.status.idle": "2022-08-12T11:22:45.535641Z",
     "shell.execute_reply": "2022-08-12T11:22:45.534570Z"
    },
    "papermill": {
     "duration": 10.019918,
     "end_time": "2022-08-12T11:22:45.538109",
     "exception": false,
     "start_time": "2022-08-12T11:22:35.518191",
     "status": "completed"
    },
    "tags": []
   },
   "outputs": [],
   "source": [
    "paths_list = []\n",
    "for dirname, _, filenames in os.walk('/kaggle/input'):\n",
    "    for filename in filenames:\n",
    "        paths_list.append(os.path.join(dirname, filename))"
   ]
  },
  {
   "cell_type": "code",
   "execution_count": 4,
   "id": "03ade692",
   "metadata": {
    "execution": {
     "iopub.execute_input": "2022-08-12T11:22:45.547497Z",
     "iopub.status.busy": "2022-08-12T11:22:45.546434Z",
     "iopub.status.idle": "2022-08-12T11:22:45.552463Z",
     "shell.execute_reply": "2022-08-12T11:22:45.551658Z"
    },
    "papermill": {
     "duration": 0.012388,
     "end_time": "2022-08-12T11:22:45.554451",
     "exception": false,
     "start_time": "2022-08-12T11:22:45.542063",
     "status": "completed"
    },
    "tags": []
   },
   "outputs": [],
   "source": [
    "def  npy_load(path, pad=1374):\n",
    "    result = np.zeros((pad,80))\n",
    "    #print ('load', path)\n",
    "    try:\n",
    "        matrix = np.load(path)\n",
    "        result[:matrix.shape[0],:matrix.shape[1]] = matrix\n",
    "        #print(result)\n",
    "        return result \n",
    "    except ValueError:\n",
    "        return result "
   ]
  },
  {
   "cell_type": "code",
   "execution_count": 5,
   "id": "caea370d",
   "metadata": {
    "execution": {
     "iopub.execute_input": "2022-08-12T11:22:45.563225Z",
     "iopub.status.busy": "2022-08-12T11:22:45.562460Z",
     "iopub.status.idle": "2022-08-12T11:22:45.788298Z",
     "shell.execute_reply": "2022-08-12T11:22:45.786713Z"
    },
    "papermill": {
     "duration": 0.232762,
     "end_time": "2022-08-12T11:22:45.790812",
     "exception": false,
     "start_time": "2022-08-12T11:22:45.558050",
     "status": "completed"
    },
    "tags": []
   },
   "outputs": [
    {
     "name": "stdout",
     "output_type": "stream",
     "text": [
      "CPU times: user 203 ms, sys: 5.78 ms, total: 209 ms\n",
      "Wall time: 217 ms\n"
     ]
    }
   ],
   "source": [
    "%%time\n",
    "paths_df = pd.DataFrame({'paths':paths_list})\n",
    "paths_df['set'] = ['train' if x==-1 else 'val' for x in paths_df.paths.str.find('val')]\n",
    "paths_df['is_noise'] = [1 if x==-1 else 0 for x in paths_df.paths.str.find('clean')]\n",
    "paths_df['speaker_id'] = paths_df.paths.str.findall(r'\\/\\d*\\/').str[0].str[1:-1]\n",
    "#paths_df['npy'] = paths_df.paths.apply(npy_load)"
   ]
  },
  {
   "cell_type": "code",
   "execution_count": 6,
   "id": "f5fcc4a0",
   "metadata": {
    "execution": {
     "iopub.execute_input": "2022-08-12T11:22:45.800741Z",
     "iopub.status.busy": "2022-08-12T11:22:45.799686Z",
     "iopub.status.idle": "2022-08-12T11:22:45.804959Z",
     "shell.execute_reply": "2022-08-12T11:22:45.804014Z"
    },
    "papermill": {
     "duration": 0.01231,
     "end_time": "2022-08-12T11:22:45.806959",
     "exception": false,
     "start_time": "2022-08-12T11:22:45.794649",
     "status": "completed"
    },
    "tags": []
   },
   "outputs": [],
   "source": [
    "def get_files(_, _set = 'train'):\n",
    "    result = list(paths_df[paths_df['set'] == _set]['paths'].values)\n",
    "    #print (result)\n",
    "    return result "
   ]
  },
  {
   "cell_type": "code",
   "execution_count": 7,
   "id": "4d587049",
   "metadata": {
    "execution": {
     "iopub.execute_input": "2022-08-12T11:22:45.815238Z",
     "iopub.status.busy": "2022-08-12T11:22:45.814958Z",
     "iopub.status.idle": "2022-08-12T11:22:45.820217Z",
     "shell.execute_reply": "2022-08-12T11:22:45.819343Z"
    },
    "papermill": {
     "duration": 0.012264,
     "end_time": "2022-08-12T11:22:45.822755",
     "exception": false,
     "start_time": "2022-08-12T11:22:45.810491",
     "status": "completed"
    },
    "tags": []
   },
   "outputs": [],
   "source": [
    "def get_label(path):\n",
    "    result = paths_df[paths_df['paths'] == path]['is_noise'].values[0]\n",
    "    #print (result)\n",
    "    return result"
   ]
  },
  {
   "cell_type": "code",
   "execution_count": 8,
   "id": "301814a3",
   "metadata": {
    "execution": {
     "iopub.execute_input": "2022-08-12T11:22:45.831147Z",
     "iopub.status.busy": "2022-08-12T11:22:45.830895Z",
     "iopub.status.idle": "2022-08-12T11:22:45.838027Z",
     "shell.execute_reply": "2022-08-12T11:22:45.837014Z"
    },
    "papermill": {
     "duration": 0.013688,
     "end_time": "2022-08-12T11:22:45.840109",
     "exception": false,
     "start_time": "2022-08-12T11:22:45.826421",
     "status": "completed"
    },
    "tags": []
   },
   "outputs": [],
   "source": [
    "dblock = DataBlock(blocks    = (ImageBlock, CategoryBlock),\n",
    "                   get_items = get_files,\n",
    "                   get_x     = npy_load, \n",
    "                   get_y     = get_label,\n",
    "                   splitter  = RandomSplitter()\n",
    "                  )"
   ]
  },
  {
   "cell_type": "code",
   "execution_count": 9,
   "id": "5f46e24f",
   "metadata": {
    "execution": {
     "iopub.execute_input": "2022-08-12T11:22:45.849049Z",
     "iopub.status.busy": "2022-08-12T11:22:45.848302Z",
     "iopub.status.idle": "2022-08-12T11:23:38.578487Z",
     "shell.execute_reply": "2022-08-12T11:23:38.577580Z"
    },
    "papermill": {
     "duration": 52.738128,
     "end_time": "2022-08-12T11:23:38.581751",
     "exception": false,
     "start_time": "2022-08-12T11:22:45.843623",
     "status": "completed"
    },
    "tags": []
   },
   "outputs": [
    {
     "data": {
      "image/png": "[encoded data removed]",
      "text/plain": [
       "<Figure size 648x648 with 9 Axes>"
      ]
     },
     "metadata": {
      "needs_background": "light"
     },
     "output_type": "display_data"
    }
   ],
   "source": [
    "dls = dblock.dataloaders(Path(''))\n",
    "dls.show_batch()"
   ]
  },
  {
   "cell_type": "code",
   "execution_count": 10,
   "id": "3ab02135",
   "metadata": {
    "execution": {
     "iopub.execute_input": "2022-08-12T11:23:38.590981Z",
     "iopub.status.busy": "2022-08-12T11:23:38.590412Z",
     "iopub.status.idle": "2022-08-12T11:23:38.600869Z",
     "shell.execute_reply": "2022-08-12T11:23:38.599837Z"
    },
    "papermill": {
     "duration": 0.017051,
     "end_time": "2022-08-12T11:23:38.602748",
     "exception": false,
     "start_time": "2022-08-12T11:23:38.585697",
     "status": "completed"
    },
    "tags": []
   },
   "outputs": [
    {
     "data": {
      "text/plain": [
       "1    14001\n",
       "0    14000\n",
       "Name: is_noise, dtype: int64"
      ]
     },
     "execution_count": 10,
     "metadata": {},
     "output_type": "execute_result"
    }
   ],
   "source": [
    "paths_df.is_noise.value_counts()"
   ]
  },
  {
   "cell_type": "code",
   "execution_count": 11,
   "id": "4e72458d",
   "metadata": {
    "execution": {
     "iopub.execute_input": "2022-08-12T11:23:38.612903Z",
     "iopub.status.busy": "2022-08-12T11:23:38.611391Z",
     "iopub.status.idle": "2022-08-12T11:49:30.474517Z",
     "shell.execute_reply": "2022-08-12T11:49:30.473199Z"
    },
    "papermill": {
     "duration": 1551.870151,
     "end_time": "2022-08-12T11:49:30.476746",
     "exception": false,
     "start_time": "2022-08-12T11:23:38.606595",
     "status": "completed"
    },
    "tags": []
   },
   "outputs": [
    {
     "name": "stderr",
     "output_type": "stream",
     "text": [
      "Downloading: \"https://download.pytorch.org/models/resnet18-f37072fd.pth\" to /root/.cache/torch/hub/checkpoints/resnet18-f37072fd.pth\n"
     ]
    },
    {
     "data": {
      "application/vnd.jupyter.widget-view+json": {
       "model_id": "409ad809ac5d464b97ed150cafcddb19",
       "version_major": 2,
       "version_minor": 0
      },
      "text/plain": [
       "  0%|          | 0.00/44.7M [00:00<?, ?B/s]"
      ]
     },
     "metadata": {},
     "output_type": "display_data"
    },
    {
     "data": {
      "text/html": [
       "\n",
       "<style>\n",
       "    /* Turns off some styling */\n",
       "    progress {\n",
       "        /* gets rid of default border in Firefox and Opera. */\n",
       "        border: none;\n",
       "        /* Needs to be in here for Safari polyfill so background images work as expected. */\n",
       "        background-size: auto;\n",
       "    }\n",
       "    .progress-bar-interrupted, .progress-bar-interrupted::-webkit-progress-bar {\n",
       "        background: #F44336;\n",
       "    }\n",
       "</style>\n"
      ],
      "text/plain": [
       "<IPython.core.display.HTML object>"
      ]
     },
     "metadata": {},
     "output_type": "display_data"
    },
    {
     "data": {
      "text/html": [
       "<table border=\"1\" class=\"dataframe\">\n",
       "  <thead>\n",
       "    <tr style=\"text-align: left;\">\n",
       "      <th>epoch</th>\n",
       "      <th>train_loss</th>\n",
       "      <th>valid_loss</th>\n",
       "      <th>accuracy</th>\n",
       "      <th>time</th>\n",
       "    </tr>\n",
       "  </thead>\n",
       "  <tbody>\n",
       "    <tr>\n",
       "      <td>0</td>\n",
       "      <td>0.196775</td>\n",
       "      <td>0.173015</td>\n",
       "      <td>0.939167</td>\n",
       "      <td>02:56</td>\n",
       "    </tr>\n",
       "  </tbody>\n",
       "</table>"
      ],
      "text/plain": [
       "<IPython.core.display.HTML object>"
      ]
     },
     "metadata": {},
     "output_type": "display_data"
    },
    {
     "data": {
      "text/html": [
       "\n",
       "<style>\n",
       "    /* Turns off some styling */\n",
       "    progress {\n",
       "        /* gets rid of default border in Firefox and Opera. */\n",
       "        border: none;\n",
       "        /* Needs to be in here for Safari polyfill so background images work as expected. */\n",
       "        background-size: auto;\n",
       "    }\n",
       "    .progress-bar-interrupted, .progress-bar-interrupted::-webkit-progress-bar {\n",
       "        background: #F44336;\n",
       "    }\n",
       "</style>\n"
      ],
      "text/plain": [
       "<IPython.core.display.HTML object>"
      ]
     },
     "metadata": {},
     "output_type": "display_data"
    },
    {
     "data": {
      "text/html": [
       "<table border=\"1\" class=\"dataframe\">\n",
       "  <thead>\n",
       "    <tr style=\"text-align: left;\">\n",
       "      <th>epoch</th>\n",
       "      <th>train_loss</th>\n",
       "      <th>valid_loss</th>\n",
       "      <th>accuracy</th>\n",
       "      <th>time</th>\n",
       "    </tr>\n",
       "  </thead>\n",
       "  <tbody>\n",
       "    <tr>\n",
       "      <td>0</td>\n",
       "      <td>0.114820</td>\n",
       "      <td>0.092686</td>\n",
       "      <td>0.971042</td>\n",
       "      <td>02:16</td>\n",
       "    </tr>\n",
       "    <tr>\n",
       "      <td>1</td>\n",
       "      <td>0.082543</td>\n",
       "      <td>0.201742</td>\n",
       "      <td>0.936250</td>\n",
       "      <td>02:17</td>\n",
       "    </tr>\n",
       "    <tr>\n",
       "      <td>2</td>\n",
       "      <td>0.069557</td>\n",
       "      <td>0.404952</td>\n",
       "      <td>0.876250</td>\n",
       "      <td>02:17</td>\n",
       "    </tr>\n",
       "    <tr>\n",
       "      <td>3</td>\n",
       "      <td>0.055220</td>\n",
       "      <td>0.454295</td>\n",
       "      <td>0.801458</td>\n",
       "      <td>02:17</td>\n",
       "    </tr>\n",
       "    <tr>\n",
       "      <td>4</td>\n",
       "      <td>0.041661</td>\n",
       "      <td>0.081224</td>\n",
       "      <td>0.979167</td>\n",
       "      <td>02:16</td>\n",
       "    </tr>\n",
       "    <tr>\n",
       "      <td>5</td>\n",
       "      <td>0.029983</td>\n",
       "      <td>0.050151</td>\n",
       "      <td>0.982500</td>\n",
       "      <td>02:19</td>\n",
       "    </tr>\n",
       "    <tr>\n",
       "      <td>6</td>\n",
       "      <td>0.012046</td>\n",
       "      <td>0.065783</td>\n",
       "      <td>0.982500</td>\n",
       "      <td>02:16</td>\n",
       "    </tr>\n",
       "    <tr>\n",
       "      <td>7</td>\n",
       "      <td>0.008896</td>\n",
       "      <td>0.063361</td>\n",
       "      <td>0.983958</td>\n",
       "      <td>02:16</td>\n",
       "    </tr>\n",
       "    <tr>\n",
       "      <td>8</td>\n",
       "      <td>0.003886</td>\n",
       "      <td>0.064203</td>\n",
       "      <td>0.985000</td>\n",
       "      <td>02:17</td>\n",
       "    </tr>\n",
       "    <tr>\n",
       "      <td>9</td>\n",
       "      <td>0.003334</td>\n",
       "      <td>0.064861</td>\n",
       "      <td>0.985000</td>\n",
       "      <td>02:17</td>\n",
       "    </tr>\n",
       "  </tbody>\n",
       "</table>"
      ],
      "text/plain": [
       "<IPython.core.display.HTML object>"
      ]
     },
     "metadata": {},
     "output_type": "display_data"
    },
    {
     "data": {
      "text/plain": [
       "Path('models/model_resnet18.pth')"
      ]
     },
     "execution_count": 11,
     "metadata": {},
     "output_type": "execute_result"
    }
   ],
   "source": [
    "learn = vision_learner(dls, models.resnet18, loss_func=CrossEntropyLossFlat(), metrics=accuracy)\n",
    "learn.fine_tune(10)\n",
    "learn.save(\"model_resnet18\")"
   ]
  },
  {
   "cell_type": "code",
   "execution_count": 12,
   "id": "f8b4f438",
   "metadata": {
    "execution": {
     "iopub.execute_input": "2022-08-12T11:49:30.493191Z",
     "iopub.status.busy": "2022-08-12T11:49:30.492874Z",
     "iopub.status.idle": "2022-08-12T11:49:30.810363Z",
     "shell.execute_reply": "2022-08-12T11:49:30.809083Z"
    },
    "papermill": {
     "duration": 0.334435,
     "end_time": "2022-08-12T11:49:30.816065",
     "exception": false,
     "start_time": "2022-08-12T11:49:30.481630",
     "status": "completed"
    },
    "tags": []
   },
   "outputs": [
    {
     "data": {
      "image/png": "[encoded data removed]",
      "text/plain": [
       "<Figure size 432x288 with 1 Axes>"
      ]
     },
     "metadata": {
      "needs_background": "light"
     },
     "output_type": "display_data"
    }
   ],
   "source": [
    "learn.recorder.plot_loss()"
   ]
  },
  {
   "cell_type": "code",
   "execution_count": 13,
   "id": "d5010c2f",
   "metadata": {
    "execution": {
     "iopub.execute_input": "2022-08-12T11:49:30.843188Z",
     "iopub.status.busy": "2022-08-12T11:49:30.842741Z",
     "iopub.status.idle": "2022-08-12T11:51:30.678339Z",
     "shell.execute_reply": "2022-08-12T11:51:30.677331Z"
    },
    "papermill": {
     "duration": 119.857177,
     "end_time": "2022-08-12T11:51:30.685513",
     "exception": false,
     "start_time": "2022-08-12T11:49:30.828336",
     "status": "completed"
    },
    "tags": []
   },
   "outputs": [
    {
     "name": "stdout",
     "output_type": "stream",
     "text": [
      "CPU times: user 1min 31s, sys: 984 ms, total: 1min 32s\n",
      "Wall time: 1min 59s\n"
     ]
    }
   ],
   "source": [
    "%%time\n",
    "preds = []\n",
    "for path in paths_df[paths_df['set']=='val'].paths.values:\n",
    "    with learn.no_bar(), learn.no_logging():\n",
    "        preds.append(learn.predict(npy_load(path))[0])    "
   ]
  },
  {
   "cell_type": "code",
   "execution_count": 14,
   "id": "17a8d94e",
   "metadata": {
    "execution": {
     "iopub.execute_input": "2022-08-12T11:51:30.699268Z",
     "iopub.status.busy": "2022-08-12T11:51:30.698253Z",
     "iopub.status.idle": "2022-08-12T11:51:30.706917Z",
     "shell.execute_reply": "2022-08-12T11:51:30.706028Z"
    },
    "papermill": {
     "duration": 0.01761,
     "end_time": "2022-08-12T11:51:30.708866",
     "exception": false,
     "start_time": "2022-08-12T11:51:30.691256",
     "status": "completed"
    },
    "tags": []
   },
   "outputs": [],
   "source": [
    "preds_val = list(map(int,preds))\n",
    "labels_val = paths_df[paths_df['set']=='val'].is_noise.values"
   ]
  },
  {
   "cell_type": "code",
   "execution_count": 15,
   "id": "2250b1af",
   "metadata": {
    "execution": {
     "iopub.execute_input": "2022-08-12T11:51:30.720967Z",
     "iopub.status.busy": "2022-08-12T11:51:30.720623Z",
     "iopub.status.idle": "2022-08-12T11:51:30.729119Z",
     "shell.execute_reply": "2022-08-12T11:51:30.728100Z"
    },
    "papermill": {
     "duration": 0.01674,
     "end_time": "2022-08-12T11:51:30.731297",
     "exception": false,
     "start_time": "2022-08-12T11:51:30.714557",
     "status": "completed"
    },
    "tags": []
   },
   "outputs": [
    {
     "data": {
      "text/plain": [
       "0.98325"
      ]
     },
     "execution_count": 15,
     "metadata": {},
     "output_type": "execute_result"
    }
   ],
   "source": [
    "accuracy_score(preds_val,labels_val) "
   ]
  },
  {
   "cell_type": "code",
   "execution_count": 16,
   "id": "0448e963",
   "metadata": {
    "execution": {
     "iopub.execute_input": "2022-08-12T11:51:30.742345Z",
     "iopub.status.busy": "2022-08-12T11:51:30.742088Z",
     "iopub.status.idle": "2022-08-12T11:51:30.752964Z",
     "shell.execute_reply": "2022-08-12T11:51:30.751929Z"
    },
    "papermill": {
     "duration": 0.01883,
     "end_time": "2022-08-12T11:51:30.755116",
     "exception": false,
     "start_time": "2022-08-12T11:51:30.736286",
     "status": "completed"
    },
    "tags": []
   },
   "outputs": [
    {
     "data": {
      "text/plain": [
       "0.9832849173352773"
      ]
     },
     "execution_count": 16,
     "metadata": {},
     "output_type": "execute_result"
    }
   ],
   "source": [
    "roc_auc_score(preds_val,labels_val) "
   ]
  }
 ],
 "metadata": {
  "kernelspec": {
   "display_name": "Python 3",
   "language": "python",
   "name": "python3"
  },
  "language_info": {
   "codemirror_mode": {
    "name": "ipython",
    "version": 3
   },
   "file_extension": ".py",
   "mimetype": "text/x-python",
   "name": "python",
   "nbconvert_exporter": "python",
   "pygments_lexer": "ipython3",
   "version": "3.7.12"
  },
  "papermill": {
   "default_parameters": {},
   "duration": 1749.097233,
   "end_time": "2022-08-12T11:51:33.359867",
   "environment_variables": {},
   "exception": null,
   "input_path": "__notebook__.ipynb",
   "output_path": "__notebook__.ipynb",
   "parameters": {},
   "start_time": "2022-08-12T11:22:24.262634",
   "version": "2.3.4"
  },
  "widgets": {
   "application/vnd.jupyter.widget-state+json": {
    "state": {
     "08b9c83199a14c37b864d5294a3b1125": {
      "model_module": "@jupyter-widgets/controls",
      "model_module_version": "1.5.0",
      "model_name": "DescriptionStyleModel",
      "state": {
       "_model_module": "@jupyter-widgets/controls",
       "_model_module_version": "1.5.0",
       "_model_name": "DescriptionStyleModel",
       "_view_count": null,
       "_view_module": "@jupyter-widgets/base",
       "_view_module_version": "1.2.0",
       "_view_name": "StyleView",
       "description_width": ""
      }
     },
     "0b3c06ffb5704c7db3cf9d9564b12d9b": {
      "model_module": "@jupyter-widgets/controls",
      "model_module_version": "1.5.0",
      "model_name": "HTMLModel",
      "state": {
       "_dom_classes": [],
       "_model_module": "@jupyter-widgets/controls",
       "_model_module_version": "1.5.0",
       "_model_name": "HTMLModel",
       "_view_count": null,
       "_view_module": "@jupyter-widgets/controls",
       "_view_module_version": "1.5.0",
       "_view_name": "HTMLView",
       "description": "",
       "description_tooltip": null,
       "layout": "IPY_MODEL_aa20a36719844aa6be34a1e059eb6d9b",
       "placeholder": "​",
       "style": "IPY_MODEL_ac0f7fbd77cb44f9b217b2c87bcd1da9",
       "value": "100%"
      }
     },
     "409ad809ac5d464b97ed150cafcddb19": {
      "model_module": "@jupyter-widgets/controls",
      "model_module_version": "1.5.0",
      "model_name": "HBoxModel",
      "state": {
       "_dom_classes": [],
       "_model_module": "@jupyter-widgets/controls",
       "_model_module_version": "1.5.0",
       "_model_name": "HBoxModel",
       "_view_count": null,
       "_view_module": "@jupyter-widgets/controls",
       "_view_module_version": "1.5.0",
       "_view_name": "HBoxView",
       "box_style": "",
       "children": [
        "IPY_MODEL_0b3c06ffb5704c7db3cf9d9564b12d9b",
        "IPY_MODEL_6d75f650703e499f9a97a622337a95a3",
        "IPY_MODEL_98292a70bd3d40789700e4be9b638ff3"
       ],
       "layout": "IPY_MODEL_acd544da3d2842298ae643fca3a76aa5"
      }
     },
     "67aed5b355074f529569e99f88387793": {
      "model_module": "@jupyter-widgets/base",
      "model_module_version": "1.2.0",
      "model_name": "LayoutModel",
      "state": {
       "_model_module": "@jupyter-widgets/base",
       "_model_module_version": "1.2.0",
       "_model_name": "LayoutModel",
       "_view_count": null,
       "_view_module": "@jupyter-widgets/base",
       "_view_module_version": "1.2.0",
       "_view_name": "LayoutView",
       "align_content": null,
       "align_items": null,
       "align_self": null,
       "border": null,
       "bottom": null,
       "display": null,
       "flex": null,
       "flex_flow": null,
       "grid_area": null,
       "grid_auto_columns": null,
       "grid_auto_flow": null,
       "grid_auto_rows": null,
       "grid_column": null,
       "grid_gap": null,
       "grid_row": null,
       "grid_template_areas": null,
       "grid_template_columns": null,
       "grid_template_rows": null,
       "height": null,
       "justify_content": null,
       "justify_items": null,
       "left": null,
       "margin": null,
       "max_height": null,
       "max_width": null,
       "min_height": null,
       "min_width": null,
       "object_fit": null,
       "object_position": null,
       "order": null,
       "overflow": null,
       "overflow_x": null,
       "overflow_y": null,
       "padding": null,
       "right": null,
       "top": null,
       "visibility": null,
       "width": null
      }
     },
     "6d75f650703e499f9a97a622337a95a3": {
      "model_module": "@jupyter-widgets/controls",
      "model_module_version": "1.5.0",
      "model_name": "FloatProgressModel",
      "state": {
       "_dom_classes": [],
       "_model_module": "@jupyter-widgets/controls",
       "_model_module_version": "1.5.0",
       "_model_name": "FloatProgressModel",
       "_view_count": null,
       "_view_module": "@jupyter-widgets/controls",
       "_view_module_version": "1.5.0",
       "_view_name": "ProgressView",
       "bar_style": "success",
       "description": "",
       "description_tooltip": null,
       "layout": "IPY_MODEL_7d38ff055f7b493bb8e69ba32c3d0981",
       "max": 46830571.0,
       "min": 0.0,
       "orientation": "horizontal",
       "style": "IPY_MODEL_c2bf04bb1dc44d99b8fbe786996f200b",
       "value": 46830571.0
      }
     },
     "7d38ff055f7b493bb8e69ba32c3d0981": {
      "model_module": "@jupyter-widgets/base",
      "model_module_version": "1.2.0",
      "model_name": "LayoutModel",
      "state": {
       "_model_module": "@jupyter-widgets/base",
       "_model_module_version": "1.2.0",
       "_model_name": "LayoutModel",
       "_view_count": null,
       "_view_module": "@jupyter-widgets/base",
       "_view_module_version": "1.2.0",
       "_view_name": "LayoutView",
       "align_content": null,
       "align_items": null,
       "align_self": null,
       "border": null,
       "bottom": null,
       "display": null,
       "flex": null,
       "flex_flow": null,
       "grid_area": null,
       "grid_auto_columns": null,
       "grid_auto_flow": null,
       "grid_auto_rows": null,
       "grid_column": null,
       "grid_gap": null,
       "grid_row": null,
       "grid_template_areas": null,
       "grid_template_columns": null,
       "grid_template_rows": null,
       "height": null,
       "justify_content": null,
       "justify_items": null,
       "left": null,
       "margin": null,
       "max_height": null,
       "max_width": null,
       "min_height": null,
       "min_width": null,
       "object_fit": null,
       "object_position": null,
       "order": null,
       "overflow": null,
       "overflow_x": null,
       "overflow_y": null,
       "padding": null,
       "right": null,
       "top": null,
       "visibility": null,
       "width": null
      }
     },
     "98292a70bd3d40789700e4be9b638ff3": {
      "model_module": "@jupyter-widgets/controls",
      "model_module_version": "1.5.0",
      "model_name": "HTMLModel",
      "state": {
       "_dom_classes": [],
       "_model_module": "@jupyter-widgets/controls",
       "_model_module_version": "1.5.0",
       "_model_name": "HTMLModel",
       "_view_count": null,
       "_view_module": "@jupyter-widgets/controls",
       "_view_module_version": "1.5.0",
       "_view_name": "HTMLView",
       "description": "",
       "description_tooltip": null,
       "layout": "IPY_MODEL_67aed5b355074f529569e99f88387793",
       "placeholder": "​",
       "style": "IPY_MODEL_08b9c83199a14c37b864d5294a3b1125",
       "value": " 44.7M/44.7M [00:02&lt;00:00, 25.5MB/s]"
      }
     },
     "aa20a36719844aa6be34a1e059eb6d9b": {
      "model_module": "@jupyter-widgets/base",
      "model_module_version": "1.2.0",
      "model_name": "LayoutModel",
      "state": {
       "_model_module": "@jupyter-widgets/base",
       "_model_module_version": "1.2.0",
       "_model_name": "LayoutModel",
       "_view_count": null,
       "_view_module": "@jupyter-widgets/base",
       "_view_module_version": "1.2.0",
       "_view_name": "LayoutView",
       "align_content": null,
       "align_items": null,
       "align_self": null,
       "border": null,
       "bottom": null,
       "display": null,
       "flex": null,
       "flex_flow": null,
       "grid_area": null,
       "grid_auto_columns": null,
       "grid_auto_flow": null,
       "grid_auto_rows": null,
       "grid_column": null,
       "grid_gap": null,
       "grid_row": null,
       "grid_template_areas": null,
       "grid_template_columns": null,
       "grid_template_rows": null,
       "height": null,
       "justify_content": null,
       "justify_items": null,
       "left": null,
       "margin": null,
       "max_height": null,
       "max_width": null,
       "min_height": null,
       "min_width": null,
       "object_fit": null,
       "object_position": null,
       "order": null,
       "overflow": null,
       "overflow_x": null,
       "overflow_y": null,
       "padding": null,
       "right": null,
       "top": null,
       "visibility": null,
       "width": null
      }
     },
     "ac0f7fbd77cb44f9b217b2c87bcd1da9": {
      "model_module": "@jupyter-widgets/controls",
      "model_module_version": "1.5.0",
      "model_name": "DescriptionStyleModel",
      "state": {
       "_model_module": "@jupyter-widgets/controls",
       "_model_module_version": "1.5.0",
       "_model_name": "DescriptionStyleModel",
       "_view_count": null,
       "_view_module": "@jupyter-widgets/base",
       "_view_module_version": "1.2.0",
       "_view_name": "StyleView",
       "description_width": ""
      }
     },
     "acd544da3d2842298ae643fca3a76aa5": {
      "model_module": "@jupyter-widgets/base",
      "model_module_version": "1.2.0",
      "model_name": "LayoutModel",
      "state": {
       "_model_module": "@jupyter-widgets/base",
       "_model_module_version": "1.2.0",
       "_model_name": "LayoutModel",
       "_view_count": null,
       "_view_module": "@jupyter-widgets/base",
       "_view_module_version": "1.2.0",
       "_view_name": "LayoutView",
       "align_content": null,
       "align_items": null,
       "align_self": null,
       "border": null,
       "bottom": null,
       "display": null,
       "flex": null,
       "flex_flow": null,
       "grid_area": null,
       "grid_auto_columns": null,
       "grid_auto_flow": null,
       "grid_auto_rows": null,
       "grid_column": null,
       "grid_gap": null,
       "grid_row": null,
       "grid_template_areas": null,
       "grid_template_columns": null,
       "grid_template_rows": null,
       "height": null,
       "justify_content": null,
       "justify_items": null,
       "left": null,
       "margin": null,
       "max_height": null,
       "max_width": null,
       "min_height": null,
       "min_width": null,
       "object_fit": null,
       "object_position": null,
       "order": null,
       "overflow": null,
       "overflow_x": null,
       "overflow_y": null,
       "padding": null,
       "right": null,
       "top": null,
       "visibility": null,
       "width": null
      }
     },
     "c2bf04bb1dc44d99b8fbe786996f200b": {
      "model_module": "@jupyter-widgets/controls",
      "model_module_version": "1.5.0",
      "model_name": "ProgressStyleModel",
      "state": {
       "_model_module": "@jupyter-widgets/controls",
       "_model_module_version": "1.5.0",
       "_model_name": "ProgressStyleModel",
       "_view_count": null,
       "_view_module": "@jupyter-widgets/base",
       "_view_module_version": "1.2.0",
       "_view_name": "StyleView",
       "bar_color": null,
       "description_width": ""
      }
     }
    },
    "version_major": 2,
    "version_minor": 0
   }
  }
 },
 "nbformat": 4,
 "nbformat_minor": 5
}
