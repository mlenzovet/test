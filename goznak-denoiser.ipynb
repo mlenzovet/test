{
 "cells": [
  {
   "cell_type": "code",
   "execution_count": 1,
   "id": "7c01aa95",
   "metadata": {
    "_cell_guid": "b1076dfc-b9ad-4769-8c92-a6c4dae69d19",
    "_uuid": "8f2839f25d086af736a60e9eeb907d3b93b6e0e5",
    "execution": {
     "iopub.execute_input": "2022-08-13T12:45:49.072273Z",
     "iopub.status.busy": "2022-08-13T12:45:49.071435Z",
     "iopub.status.idle": "2022-08-13T12:45:52.360945Z",
     "shell.execute_reply": "2022-08-13T12:45:52.360002Z"
    },
    "papermill": {
     "duration": 3.301715,
     "end_time": "2022-08-13T12:45:52.363515",
     "exception": false,
     "start_time": "2022-08-13T12:45:49.061800",
     "status": "completed"
    },
    "tags": []
   },
   "outputs": [],
   "source": [
    "import numpy as np\n",
    "import pandas as pd\n",
    "import os\n",
    "from fastai.data.all import *\n",
    "from fastai.vision.all import *\n",
    "import warnings\n",
    "warnings.filterwarnings('ignore')"
   ]
  },
  {
   "cell_type": "code",
   "execution_count": 2,
   "id": "611b9870",
   "metadata": {
    "execution": {
     "iopub.execute_input": "2022-08-13T12:45:52.372816Z",
     "iopub.status.busy": "2022-08-13T12:45:52.371753Z",
     "iopub.status.idle": "2022-08-13T12:46:00.609507Z",
     "shell.execute_reply": "2022-08-13T12:46:00.608501Z"
    },
    "papermill": {
     "duration": 8.244575,
     "end_time": "2022-08-13T12:46:00.611985",
     "exception": false,
     "start_time": "2022-08-13T12:45:52.367410",
     "status": "completed"
    },
    "tags": []
   },
   "outputs": [],
   "source": [
    "paths_list = []\n",
    "for dirname, _, filenames in os.walk('/kaggle/input'):\n",
    "    for filename in filenames:\n",
    "        paths_list.append(os.path.join(dirname, filename))"
   ]
  },
  {
   "cell_type": "code",
   "execution_count": 3,
   "id": "fa0fcbfb",
   "metadata": {
    "execution": {
     "iopub.execute_input": "2022-08-13T12:46:00.621672Z",
     "iopub.status.busy": "2022-08-13T12:46:00.620194Z",
     "iopub.status.idle": "2022-08-13T12:46:00.626710Z",
     "shell.execute_reply": "2022-08-13T12:46:00.625903Z"
    },
    "papermill": {
     "duration": 0.012997,
     "end_time": "2022-08-13T12:46:00.628661",
     "exception": false,
     "start_time": "2022-08-13T12:46:00.615664",
     "status": "completed"
    },
    "tags": []
   },
   "outputs": [],
   "source": [
    "def  npy_load(path, pad=1374):\n",
    "    result = np.zeros((pad,80))\n",
    "    try:\n",
    "        matrix = np.load(path)\n",
    "        result[:matrix.shape[0],:matrix.shape[1]] = matrix\n",
    "        return result \n",
    "    except ValueError:\n",
    "        return result "
   ]
  },
  {
   "cell_type": "code",
   "execution_count": 4,
   "id": "6952c270",
   "metadata": {
    "execution": {
     "iopub.execute_input": "2022-08-13T12:46:00.636502Z",
     "iopub.status.busy": "2022-08-13T12:46:00.636237Z",
     "iopub.status.idle": "2022-08-13T12:46:00.925824Z",
     "shell.execute_reply": "2022-08-13T12:46:00.924842Z"
    },
    "papermill": {
     "duration": 0.296558,
     "end_time": "2022-08-13T12:46:00.928605",
     "exception": false,
     "start_time": "2022-08-13T12:46:00.632047",
     "status": "completed"
    },
    "tags": []
   },
   "outputs": [
    {
     "name": "stdout",
     "output_type": "stream",
     "text": [
      "CPU times: user 268 ms, sys: 7.87 ms, total: 276 ms\n",
      "Wall time: 283 ms\n"
     ]
    }
   ],
   "source": [
    "%%time\n",
    "paths_df = pd.DataFrame({'paths':paths_list})\n",
    "paths_df['set'] = ['train' if x==-1 else 'val' for x in paths_df.paths.str.find('val')]\n",
    "paths_df['is_noise'] = [1 if x==-1 else 0 for x in paths_df.paths.str.find('clean')]\n",
    "paths_df['speaker_id'] = paths_df.paths.str.findall(r'\\/\\d*\\/').str[0].str[1:-1]\n",
    "paths_df['filename'] = paths_df.paths.str.findall(r'[\\d\\-_]*\\.npy').str[0]\n",
    "#paths_df['npy'] = paths_df.paths.apply(npy_load)"
   ]
  },
  {
   "cell_type": "code",
   "execution_count": 5,
   "id": "a5fc2d1c",
   "metadata": {
    "execution": {
     "iopub.execute_input": "2022-08-13T12:46:00.937720Z",
     "iopub.status.busy": "2022-08-13T12:46:00.936707Z",
     "iopub.status.idle": "2022-08-13T12:46:00.941839Z",
     "shell.execute_reply": "2022-08-13T12:46:00.940946Z"
    },
    "papermill": {
     "duration": 0.011577,
     "end_time": "2022-08-13T12:46:00.943870",
     "exception": false,
     "start_time": "2022-08-13T12:46:00.932293",
     "status": "completed"
    },
    "tags": []
   },
   "outputs": [],
   "source": [
    "def get_files(_, _set = 'train'):\n",
    "    result = list(paths_df[paths_df['set'] == _set].filename.unique())\n",
    "    return result "
   ]
  },
  {
   "cell_type": "code",
   "execution_count": 6,
   "id": "4ef2ec17",
   "metadata": {
    "execution": {
     "iopub.execute_input": "2022-08-13T12:46:00.951807Z",
     "iopub.status.busy": "2022-08-13T12:46:00.951538Z",
     "iopub.status.idle": "2022-08-13T12:46:00.956829Z",
     "shell.execute_reply": "2022-08-13T12:46:00.955927Z"
    },
    "papermill": {
     "duration": 0.011509,
     "end_time": "2022-08-13T12:46:00.958791",
     "exception": false,
     "start_time": "2022-08-13T12:46:00.947282",
     "status": "completed"
    },
    "tags": []
   },
   "outputs": [],
   "source": [
    "def get_matrix(filename):\n",
    "    path = paths_df[(paths_df['filename'] == filename)&(paths_df['is_noise']==1)].paths.values[0]\n",
    "    result = npy_load(path)\n",
    "    return result"
   ]
  },
  {
   "cell_type": "code",
   "execution_count": 7,
   "id": "836d1de9",
   "metadata": {
    "execution": {
     "iopub.execute_input": "2022-08-13T12:46:00.966861Z",
     "iopub.status.busy": "2022-08-13T12:46:00.966607Z",
     "iopub.status.idle": "2022-08-13T12:46:00.970932Z",
     "shell.execute_reply": "2022-08-13T12:46:00.969940Z"
    },
    "papermill": {
     "duration": 0.010658,
     "end_time": "2022-08-13T12:46:00.972841",
     "exception": false,
     "start_time": "2022-08-13T12:46:00.962183",
     "status": "completed"
    },
    "tags": []
   },
   "outputs": [],
   "source": [
    "def get_label(filename):\n",
    "    path = paths_df[(paths_df['filename'] == filename)&(paths_df['is_noise']==0)].paths.values[0]\n",
    "    result = npy_load(path)\n",
    "    return result"
   ]
  },
  {
   "cell_type": "code",
   "execution_count": 8,
   "id": "b1687b74",
   "metadata": {
    "execution": {
     "iopub.execute_input": "2022-08-13T12:46:00.981588Z",
     "iopub.status.busy": "2022-08-13T12:46:00.980698Z",
     "iopub.status.idle": "2022-08-13T12:46:00.986742Z",
     "shell.execute_reply": "2022-08-13T12:46:00.985919Z"
    },
    "papermill": {
     "duration": 0.01239,
     "end_time": "2022-08-13T12:46:00.988699",
     "exception": false,
     "start_time": "2022-08-13T12:46:00.976309",
     "status": "completed"
    },
    "tags": []
   },
   "outputs": [],
   "source": [
    "dblock = DataBlock(blocks    = (ImageBlock, ImageBlock),\n",
    "                   get_items = get_files,\n",
    "                   get_x     = get_matrix, \n",
    "                   get_y     = get_label,\n",
    "                   splitter  = RandomSplitter()\n",
    "                  )"
   ]
  },
  {
   "cell_type": "code",
   "execution_count": 9,
   "id": "3588fc09",
   "metadata": {
    "execution": {
     "iopub.execute_input": "2022-08-13T12:46:00.997762Z",
     "iopub.status.busy": "2022-08-13T12:46:00.996819Z",
     "iopub.status.idle": "2022-08-13T12:46:04.741708Z",
     "shell.execute_reply": "2022-08-13T12:46:04.740784Z"
    },
    "papermill": {
     "duration": 3.751591,
     "end_time": "2022-08-13T12:46:04.743702",
     "exception": false,
     "start_time": "2022-08-13T12:46:00.992111",
     "status": "completed"
    },
    "tags": []
   },
   "outputs": [
    {
     "data": {
      "image/png": "[encoded data removed]",
      "text/plain": [
       "<Figure size 864x432 with 8 Axes>"
      ]
     },
     "metadata": {
      "needs_background": "light"
     },
     "output_type": "display_data"
    }
   ],
   "source": [
    "dls = dblock.dataloaders(Path(''), bs=4)\n",
    "dls.show_batch()"
   ]
  },
  {
   "cell_type": "code",
   "execution_count": 10,
   "id": "8e8b24cd",
   "metadata": {
    "execution": {
     "iopub.execute_input": "2022-08-13T12:46:04.753074Z",
     "iopub.status.busy": "2022-08-13T12:46:04.752270Z",
     "iopub.status.idle": "2022-08-13T12:55:16.073073Z",
     "shell.execute_reply": "2022-08-13T12:55:16.071858Z"
    },
    "papermill": {
     "duration": 551.327682,
     "end_time": "2022-08-13T12:55:16.075332",
     "exception": false,
     "start_time": "2022-08-13T12:46:04.747650",
     "status": "completed"
    },
    "tags": []
   },
   "outputs": [
    {
     "name": "stderr",
     "output_type": "stream",
     "text": [
      "Downloading: \"https://download.pytorch.org/models/resnet18-f37072fd.pth\" to /root/.cache/torch/hub/checkpoints/resnet18-f37072fd.pth\n"
     ]
    },
    {
     "data": {
      "application/vnd.jupyter.widget-view+json": {
       "model_id": "213fa1fbc77045feac0775dcbf1487fd",
       "version_major": 2,
       "version_minor": 0
      },
      "text/plain": [
       "  0%|          | 0.00/44.7M [00:00<?, ?B/s]"
      ]
     },
     "metadata": {},
     "output_type": "display_data"
    },
    {
     "data": {
      "text/html": [
       "\n",
       "<style>\n",
       "    /* Turns off some styling */\n",
       "    progress {\n",
       "        /* gets rid of default border in Firefox and Opera. */\n",
       "        border: none;\n",
       "        /* Needs to be in here for Safari polyfill so background images work as expected. */\n",
       "        background-size: auto;\n",
       "    }\n",
       "    .progress-bar-interrupted, .progress-bar-interrupted::-webkit-progress-bar {\n",
       "        background: #F44336;\n",
       "    }\n",
       "</style>\n"
      ],
      "text/plain": [
       "<IPython.core.display.HTML object>"
      ]
     },
     "metadata": {},
     "output_type": "display_data"
    },
    {
     "data": {
      "text/html": [
       "<table border=\"1\" class=\"dataframe\">\n",
       "  <thead>\n",
       "    <tr style=\"text-align: left;\">\n",
       "      <th>epoch</th>\n",
       "      <th>train_loss</th>\n",
       "      <th>valid_loss</th>\n",
       "      <th>time</th>\n",
       "    </tr>\n",
       "  </thead>\n",
       "  <tbody>\n",
       "    <tr>\n",
       "      <td>0</td>\n",
       "      <td>0.017626</td>\n",
       "      <td>0.017625</td>\n",
       "      <td>09:02</td>\n",
       "    </tr>\n",
       "  </tbody>\n",
       "</table>"
      ],
      "text/plain": [
       "<IPython.core.display.HTML object>"
      ]
     },
     "metadata": {},
     "output_type": "display_data"
    }
   ],
   "source": [
    "learn = unet_learner(dls, models.resnet18, loss_func=nn.MSELoss(), n_out=1)\n",
    "learn.fit_one_cycle(1, slice(1e-5, 0.01/5))"
   ]
  },
  {
   "cell_type": "code",
   "execution_count": 11,
   "id": "10f4d17a",
   "metadata": {
    "execution": {
     "iopub.execute_input": "2022-08-13T12:55:16.085634Z",
     "iopub.status.busy": "2022-08-13T12:55:16.085313Z",
     "iopub.status.idle": "2022-08-13T12:55:16.654827Z",
     "shell.execute_reply": "2022-08-13T12:55:16.653855Z"
    },
    "papermill": {
     "duration": 0.577897,
     "end_time": "2022-08-13T12:55:16.657700",
     "exception": false,
     "start_time": "2022-08-13T12:55:16.079803",
     "status": "completed"
    },
    "tags": []
   },
   "outputs": [
    {
     "data": {
      "text/plain": [
       "Path('models/model_unetresnet18.pth')"
      ]
     },
     "execution_count": 11,
     "metadata": {},
     "output_type": "execute_result"
    }
   ],
   "source": [
    "learn.save(\"model_unetresnet18\")"
   ]
  },
  {
   "cell_type": "code",
   "execution_count": 12,
   "id": "b73224c3",
   "metadata": {
    "execution": {
     "iopub.execute_input": "2022-08-13T12:55:16.675204Z",
     "iopub.status.busy": "2022-08-13T12:55:16.674838Z",
     "iopub.status.idle": "2022-08-13T12:55:16.680926Z",
     "shell.execute_reply": "2022-08-13T12:55:16.679863Z"
    },
    "papermill": {
     "duration": 0.014401,
     "end_time": "2022-08-13T12:55:16.682843",
     "exception": false,
     "start_time": "2022-08-13T12:55:16.668442",
     "status": "completed"
    },
    "tags": []
   },
   "outputs": [],
   "source": [
    "def get_files_val(_, _set = 'val'):\n",
    "    result = list(paths_df[paths_df['set'] == _set].filename.unique())\n",
    "    return result "
   ]
  },
  {
   "cell_type": "code",
   "execution_count": 13,
   "id": "49ca6962",
   "metadata": {
    "execution": {
     "iopub.execute_input": "2022-08-13T12:55:16.692336Z",
     "iopub.status.busy": "2022-08-13T12:55:16.692065Z",
     "iopub.status.idle": "2022-08-13T12:55:16.697256Z",
     "shell.execute_reply": "2022-08-13T12:55:16.696321Z"
    },
    "papermill": {
     "duration": 0.012168,
     "end_time": "2022-08-13T12:55:16.699223",
     "exception": false,
     "start_time": "2022-08-13T12:55:16.687055",
     "status": "completed"
    },
    "tags": []
   },
   "outputs": [],
   "source": [
    "dblock_val = DataBlock(blocks    = (ImageBlock, ImageBlock),\n",
    "                   get_items = get_files_val,\n",
    "                   get_x     = get_matrix, \n",
    "                   get_y     = get_label,\n",
    "                   splitter  = RandomSplitter(valid_pct=0.8)\n",
    "                  )"
   ]
  },
  {
   "cell_type": "code",
   "execution_count": 14,
   "id": "cb104e5f",
   "metadata": {
    "execution": {
     "iopub.execute_input": "2022-08-13T12:55:16.709575Z",
     "iopub.status.busy": "2022-08-13T12:55:16.709313Z",
     "iopub.status.idle": "2022-08-13T12:55:17.265875Z",
     "shell.execute_reply": "2022-08-13T12:55:17.264981Z"
    },
    "papermill": {
     "duration": 0.564329,
     "end_time": "2022-08-13T12:55:17.268061",
     "exception": false,
     "start_time": "2022-08-13T12:55:16.703732",
     "status": "completed"
    },
    "tags": []
   },
   "outputs": [
    {
     "data": {
      "image/png": "[encoded data removed]",
      "text/plain": [
       "<Figure size 864x432 with 8 Axes>"
      ]
     },
     "metadata": {
      "needs_background": "light"
     },
     "output_type": "display_data"
    }
   ],
   "source": [
    "dls_val = dblock_val.dataloaders(Path(''), bs=4)\n",
    "dls_val.show_batch()"
   ]
  },
  {
   "cell_type": "code",
   "execution_count": 15,
   "id": "565fd12c",
   "metadata": {
    "execution": {
     "iopub.execute_input": "2022-08-13T12:55:17.278779Z",
     "iopub.status.busy": "2022-08-13T12:55:17.278431Z",
     "iopub.status.idle": "2022-08-13T12:55:18.909528Z",
     "shell.execute_reply": "2022-08-13T12:55:18.908499Z"
    },
    "papermill": {
     "duration": 1.6392,
     "end_time": "2022-08-13T12:55:18.912046",
     "exception": false,
     "start_time": "2022-08-13T12:55:17.272846",
     "status": "completed"
    },
    "tags": []
   },
   "outputs": [],
   "source": [
    "learn_val = unet_learner(dls_val, models.resnet18, loss_func=nn.MSELoss(), n_out=1)"
   ]
  },
  {
   "cell_type": "code",
   "execution_count": 16,
   "id": "c3af19bf",
   "metadata": {
    "execution": {
     "iopub.execute_input": "2022-08-13T12:55:18.923726Z",
     "iopub.status.busy": "2022-08-13T12:55:18.922864Z",
     "iopub.status.idle": "2022-08-13T12:55:19.154876Z",
     "shell.execute_reply": "2022-08-13T12:55:19.153837Z"
    },
    "papermill": {
     "duration": 0.240133,
     "end_time": "2022-08-13T12:55:19.157186",
     "exception": false,
     "start_time": "2022-08-13T12:55:18.917053",
     "status": "completed"
    },
    "tags": []
   },
   "outputs": [
    {
     "data": {
      "text/plain": [
       "<fastai.learner.Learner at 0x7fd415c36310>"
      ]
     },
     "execution_count": 16,
     "metadata": {},
     "output_type": "execute_result"
    }
   ],
   "source": [
    "learn_val.load(\"model_unetresnet18\")"
   ]
  },
  {
   "cell_type": "code",
   "execution_count": 17,
   "id": "dc38f989",
   "metadata": {
    "execution": {
     "iopub.execute_input": "2022-08-13T12:55:19.168909Z",
     "iopub.status.busy": "2022-08-13T12:55:19.168055Z",
     "iopub.status.idle": "2022-08-13T12:55:49.545438Z",
     "shell.execute_reply": "2022-08-13T12:55:49.544363Z"
    },
    "papermill": {
     "duration": 30.385339,
     "end_time": "2022-08-13T12:55:49.547482",
     "exception": false,
     "start_time": "2022-08-13T12:55:19.162143",
     "status": "completed"
    },
    "tags": []
   },
   "outputs": [
    {
     "data": {
      "text/html": [
       "\n",
       "<style>\n",
       "    /* Turns off some styling */\n",
       "    progress {\n",
       "        /* gets rid of default border in Firefox and Opera. */\n",
       "        border: none;\n",
       "        /* Needs to be in here for Safari polyfill so background images work as expected. */\n",
       "        background-size: auto;\n",
       "    }\n",
       "    .progress-bar-interrupted, .progress-bar-interrupted::-webkit-progress-bar {\n",
       "        background: #F44336;\n",
       "    }\n",
       "</style>\n"
      ],
      "text/plain": [
       "<IPython.core.display.HTML object>"
      ]
     },
     "metadata": {},
     "output_type": "display_data"
    },
    {
     "data": {
      "text/html": [],
      "text/plain": [
       "<IPython.core.display.HTML object>"
      ]
     },
     "metadata": {},
     "output_type": "display_data"
    },
    {
     "data": {
      "text/plain": [
       "(#1) [0.01762499287724495]"
      ]
     },
     "execution_count": 17,
     "metadata": {},
     "output_type": "execute_result"
    }
   ],
   "source": [
    "learn_val.validate()"
   ]
  }
 ],
 "metadata": {
  "kernelspec": {
   "display_name": "Python 3",
   "language": "python",
   "name": "python3"
  },
  "language_info": {
   "codemirror_mode": {
    "name": "ipython",
    "version": 3
   },
   "file_extension": ".py",
   "mimetype": "text/x-python",
   "name": "python",
   "nbconvert_exporter": "python",
   "pygments_lexer": "ipython3",
   "version": "3.7.12"
  },
  "papermill": {
   "default_parameters": {},
   "duration": 610.126463,
   "end_time": "2022-08-13T12:55:51.179472",
   "environment_variables": {},
   "exception": null,
   "input_path": "__notebook__.ipynb",
   "output_path": "__notebook__.ipynb",
   "parameters": {},
   "start_time": "2022-08-13T12:45:41.053009",
   "version": "2.3.4"
  },
  "widgets": {
   "application/vnd.jupyter.widget-state+json": {
    "state": {
     "15e1b6d600ec462cad846e5dac52512e": {
      "model_module": "@jupyter-widgets/base",
      "model_module_version": "1.2.0",
      "model_name": "LayoutModel",
      "state": {
       "_model_module": "@jupyter-widgets/base",
       "_model_module_version": "1.2.0",
       "_model_name": "LayoutModel",
       "_view_count": null,
       "_view_module": "@jupyter-widgets/base",
       "_view_module_version": "1.2.0",
       "_view_name": "LayoutView",
       "align_content": null,
       "align_items": null,
       "align_self": null,
       "border": null,
       "bottom": null,
       "display": null,
       "flex": null,
       "flex_flow": null,
       "grid_area": null,
       "grid_auto_columns": null,
       "grid_auto_flow": null,
       "grid_auto_rows": null,
       "grid_column": null,
       "grid_gap": null,
       "grid_row": null,
       "grid_template_areas": null,
       "grid_template_columns": null,
       "grid_template_rows": null,
       "height": null,
       "justify_content": null,
       "justify_items": null,
       "left": null,
       "margin": null,
       "max_height": null,
       "max_width": null,
       "min_height": null,
       "min_width": null,
       "object_fit": null,
       "object_position": null,
       "order": null,
       "overflow": null,
       "overflow_x": null,
       "overflow_y": null,
       "padding": null,
       "right": null,
       "top": null,
       "visibility": null,
       "width": null
      }
     },
     "213fa1fbc77045feac0775dcbf1487fd": {
      "model_module": "@jupyter-widgets/controls",
      "model_module_version": "1.5.0",
      "model_name": "HBoxModel",
      "state": {
       "_dom_classes": [],
       "_model_module": "@jupyter-widgets/controls",
       "_model_module_version": "1.5.0",
       "_model_name": "HBoxModel",
       "_view_count": null,
       "_view_module": "@jupyter-widgets/controls",
       "_view_module_version": "1.5.0",
       "_view_name": "HBoxView",
       "box_style": "",
       "children": [
        "IPY_MODEL_a4163d7ef41e440099699ec0caa2ad7a",
        "IPY_MODEL_6712f957710c45f58fa888e00236ec89",
        "IPY_MODEL_4f257262cb274dec97e44ff59adb2671"
       ],
       "layout": "IPY_MODEL_5697d865d1214d2a88eb24296b6ff922"
      }
     },
     "38477a80196c4eee921346a16e84137c": {
      "model_module": "@jupyter-widgets/controls",
      "model_module_version": "1.5.0",
      "model_name": "DescriptionStyleModel",
      "state": {
       "_model_module": "@jupyter-widgets/controls",
       "_model_module_version": "1.5.0",
       "_model_name": "DescriptionStyleModel",
       "_view_count": null,
       "_view_module": "@jupyter-widgets/base",
       "_view_module_version": "1.2.0",
       "_view_name": "StyleView",
       "description_width": ""
      }
     },
     "4f257262cb274dec97e44ff59adb2671": {
      "model_module": "@jupyter-widgets/controls",
      "model_module_version": "1.5.0",
      "model_name": "HTMLModel",
      "state": {
       "_dom_classes": [],
       "_model_module": "@jupyter-widgets/controls",
       "_model_module_version": "1.5.0",
       "_model_name": "HTMLModel",
       "_view_count": null,
       "_view_module": "@jupyter-widgets/controls",
       "_view_module_version": "1.5.0",
       "_view_name": "HTMLView",
       "description": "",
       "description_tooltip": null,
       "layout": "IPY_MODEL_b07e2a206d2c4c5e8ceeb00fb13b96ed",
       "placeholder": "​",
       "style": "IPY_MODEL_5a4dce5160924561a1f134e54eb86ac8",
       "value": " 44.7M/44.7M [00:05&lt;00:00, 17.1MB/s]"
      }
     },
     "5697d865d1214d2a88eb24296b6ff922": {
      "model_module": "@jupyter-widgets/base",
      "model_module_version": "1.2.0",
      "model_name": "LayoutModel",
      "state": {
       "_model_module": "@jupyter-widgets/base",
       "_model_module_version": "1.2.0",
       "_model_name": "LayoutModel",
       "_view_count": null,
       "_view_module": "@jupyter-widgets/base",
       "_view_module_version": "1.2.0",
       "_view_name": "LayoutView",
       "align_content": null,
       "align_items": null,
       "align_self": null,
       "border": null,
       "bottom": null,
       "display": null,
       "flex": null,
       "flex_flow": null,
       "grid_area": null,
       "grid_auto_columns": null,
       "grid_auto_flow": null,
       "grid_auto_rows": null,
       "grid_column": null,
       "grid_gap": null,
       "grid_row": null,
       "grid_template_areas": null,
       "grid_template_columns": null,
       "grid_template_rows": null,
       "height": null,
       "justify_content": null,
       "justify_items": null,
       "left": null,
       "margin": null,
       "max_height": null,
       "max_width": null,
       "min_height": null,
       "min_width": null,
       "object_fit": null,
       "object_position": null,
       "order": null,
       "overflow": null,
       "overflow_x": null,
       "overflow_y": null,
       "padding": null,
       "right": null,
       "top": null,
       "visibility": null,
       "width": null
      }
     },
     "5a4dce5160924561a1f134e54eb86ac8": {
      "model_module": "@jupyter-widgets/controls",
      "model_module_version": "1.5.0",
      "model_name": "DescriptionStyleModel",
      "state": {
       "_model_module": "@jupyter-widgets/controls",
       "_model_module_version": "1.5.0",
       "_model_name": "DescriptionStyleModel",
       "_view_count": null,
       "_view_module": "@jupyter-widgets/base",
       "_view_module_version": "1.2.0",
       "_view_name": "StyleView",
       "description_width": ""
      }
     },
     "6712f957710c45f58fa888e00236ec89": {
      "model_module": "@jupyter-widgets/controls",
      "model_module_version": "1.5.0",
      "model_name": "FloatProgressModel",
      "state": {
       "_dom_classes": [],
       "_model_module": "@jupyter-widgets/controls",
       "_model_module_version": "1.5.0",
       "_model_name": "FloatProgressModel",
       "_view_count": null,
       "_view_module": "@jupyter-widgets/controls",
       "_view_module_version": "1.5.0",
       "_view_name": "ProgressView",
       "bar_style": "success",
       "description": "",
       "description_tooltip": null,
       "layout": "IPY_MODEL_15e1b6d600ec462cad846e5dac52512e",
       "max": 46830571.0,
       "min": 0.0,
       "orientation": "horizontal",
       "style": "IPY_MODEL_c90122d1334d42fe9edd3166d7277568",
       "value": 46830571.0
      }
     },
     "9606f675e7e4434f9e98d11beb2892d2": {
      "model_module": "@jupyter-widgets/base",
      "model_module_version": "1.2.0",
      "model_name": "LayoutModel",
      "state": {
       "_model_module": "@jupyter-widgets/base",
       "_model_module_version": "1.2.0",
       "_model_name": "LayoutModel",
       "_view_count": null,
       "_view_module": "@jupyter-widgets/base",
       "_view_module_version": "1.2.0",
       "_view_name": "LayoutView",
       "align_content": null,
       "align_items": null,
       "align_self": null,
       "border": null,
       "bottom": null,
       "display": null,
       "flex": null,
       "flex_flow": null,
       "grid_area": null,
       "grid_auto_columns": null,
       "grid_auto_flow": null,
       "grid_auto_rows": null,
       "grid_column": null,
       "grid_gap": null,
       "grid_row": null,
       "grid_template_areas": null,
       "grid_template_columns": null,
       "grid_template_rows": null,
       "height": null,
       "justify_content": null,
       "justify_items": null,
       "left": null,
       "margin": null,
       "max_height": null,
       "max_width": null,
       "min_height": null,
       "min_width": null,
       "object_fit": null,
       "object_position": null,
       "order": null,
       "overflow": null,
       "overflow_x": null,
       "overflow_y": null,
       "padding": null,
       "right": null,
       "top": null,
       "visibility": null,
       "width": null
      }
     },
     "a4163d7ef41e440099699ec0caa2ad7a": {
      "model_module": "@jupyter-widgets/controls",
      "model_module_version": "1.5.0",
      "model_name": "HTMLModel",
      "state": {
       "_dom_classes": [],
       "_model_module": "@jupyter-widgets/controls",
       "_model_module_version": "1.5.0",
       "_model_name": "HTMLModel",
       "_view_count": null,
       "_view_module": "@jupyter-widgets/controls",
       "_view_module_version": "1.5.0",
       "_view_name": "HTMLView",
       "description": "",
       "description_tooltip": null,
       "layout": "IPY_MODEL_9606f675e7e4434f9e98d11beb2892d2",
       "placeholder": "​",
       "style": "IPY_MODEL_38477a80196c4eee921346a16e84137c",
       "value": "100%"
      }
     },
     "b07e2a206d2c4c5e8ceeb00fb13b96ed": {
      "model_module": "@jupyter-widgets/base",
      "model_module_version": "1.2.0",
      "model_name": "LayoutModel",
      "state": {
       "_model_module": "@jupyter-widgets/base",
       "_model_module_version": "1.2.0",
       "_model_name": "LayoutModel",
       "_view_count": null,
       "_view_module": "@jupyter-widgets/base",
       "_view_module_version": "1.2.0",
       "_view_name": "LayoutView",
       "align_content": null,
       "align_items": null,
       "align_self": null,
       "border": null,
       "bottom": null,
       "display": null,
       "flex": null,
       "flex_flow": null,
       "grid_area": null,
       "grid_auto_columns": null,
       "grid_auto_flow": null,
       "grid_auto_rows": null,
       "grid_column": null,
       "grid_gap": null,
       "grid_row": null,
       "grid_template_areas": null,
       "grid_template_columns": null,
       "grid_template_rows": null,
       "height": null,
       "justify_content": null,
       "justify_items": null,
       "left": null,
       "margin": null,
       "max_height": null,
       "max_width": null,
       "min_height": null,
       "min_width": null,
       "object_fit": null,
       "object_position": null,
       "order": null,
       "overflow": null,
       "overflow_x": null,
       "overflow_y": null,
       "padding": null,
       "right": null,
       "top": null,
       "visibility": null,
       "width": null
      }
     },
     "c90122d1334d42fe9edd3166d7277568": {
      "model_module": "@jupyter-widgets/controls",
      "model_module_version": "1.5.0",
      "model_name": "ProgressStyleModel",
      "state": {
       "_model_module": "@jupyter-widgets/controls",
       "_model_module_version": "1.5.0",
       "_model_name": "ProgressStyleModel",
       "_view_count": null,
       "_view_module": "@jupyter-widgets/base",
       "_view_module_version": "1.2.0",
       "_view_name": "StyleView",
       "bar_color": null,
       "description_width": ""
      }
     }
    },
    "version_major": 2,
    "version_minor": 0
   }
  }
 },
 "nbformat": 4,
 "nbformat_minor": 5
}
